{
 "cells": [
  {
   "cell_type": "code",
   "execution_count": 1,
   "id": "589d35ed",
   "metadata": {},
   "outputs": [],
   "source": [
    "import cv2\n",
    "import matplotlib.pyplot as plt\n",
    "import numpy as np\n",
    "import os \n",
    "import pandas as pd\n",
    "from PIL import Image\n",
    "import seaborn as sns \n",
    "import matplotlib.pyplot as plt\n",
    "import plotly.express as px\n",
    "import plotly\n",
    "\n",
    "from sklearn.model_selection import train_test_split\n",
    "import tensorflow as tf\n",
    "from tensorflow import keras\n",
    "from tensorflow.keras import layers\n",
    "from tensorflow.keras.models import Sequential\n",
    "from tensorflow.keras.models import Model, load_model\n",
    "from tensorflow.keras.layers import Conv2D, MaxPooling2D, Dense, Flatten,Input,ZeroPadding2D,BatchNormalization,Activation\n",
    "from tensorflow.keras.metrics import BinaryAccuracy, Precision, Recall\n",
    "from tensorflow.keras.layers.experimental import preprocessing\n",
    "\n",
    "\n",
    "from sklearn.metrics import classification_report"
   ]
  },
  {
   "cell_type": "code",
   "execution_count": 2,
   "id": "4a87e73c",
   "metadata": {},
   "outputs": [],
   "source": [
    "# the r in front of the string converts it to a raw string\n",
    "folder_path = r\"C:/Users/Darin Tsui/Documents/COGS 118b/Proj\"\n",
    "No_Tumor_Img = os.listdir(folder_path + '/no/')\n",
    "Tumor_Img = os.listdir(folder_path + '/yes/')"
   ]
  },
  {
   "cell_type": "code",
   "execution_count": 3,
   "id": "bbda53e7",
   "metadata": {},
   "outputs": [],
   "source": [
    "Classes = {'no':0, 'yes':1}"
   ]
  },
  {
   "cell_type": "code",
   "execution_count": 4,
   "id": "e0bd1f56",
   "metadata": {},
   "outputs": [],
   "source": [
    "X = []\n",
    "y = []\n",
    "for i in Classes:\n",
    "    path = r\"C:/Users/Darin Tsui/Documents/COGS 118b/Proj/\"+i\n",
    "    for j in os.listdir(path):\n",
    "        img = cv2.imread(path+'/'+j, 0)\n",
    "        img = cv2.cvtColor(img, cv2.COLOR_GRAY2RGB)\n",
    "        img = cv2.cvtColor(img, cv2.COLOR_BGR2GRAY)\n",
    "        # use the process function to crop the brain and ignore the unnecessary rest part of the image\n",
    "        \n",
    "        # resize image\n",
    "        img = cv2.resize(img, (128,128),interpolation=cv2.INTER_CUBIC)\n",
    "        # normalize values\n",
    "        #img = img / 255  #-->Apply normalization because we want pixel values to be scaled to the range 0-1\n",
    "        X.append(img)\n",
    "        y.append(Classes[i])"
   ]
  },
  {
   "cell_type": "code",
   "execution_count": 5,
   "id": "23943793",
   "metadata": {},
   "outputs": [],
   "source": [
    "no_image_pixels = []\n",
    "yes_image_pixels = []\n",
    "for j in range(len(y)):\n",
    "    if y[j] == 0:\n",
    "        no_image_pixels.append(X[j])\n",
    "    else:\n",
    "        yes_image_pixels.append(X[j])"
   ]
  },
  {
   "cell_type": "code",
   "execution_count": 6,
   "id": "dcc04304",
   "metadata": {},
   "outputs": [],
   "source": [
    "# Convert to numpy array \n",
    "no_image_pixels_array = np.asarray(no_image_pixels)\n",
    "yes_image_pixels_array = np.asarray(yes_image_pixels)\n",
    "no_image_pixels_array = no_image_pixels_array.reshape(98,16384)\n",
    "yes_image_pixels_array = yes_image_pixels_array.reshape(155,16384)"
   ]
  },
  {
   "cell_type": "code",
   "execution_count": 7,
   "id": "71f9952a",
   "metadata": {},
   "outputs": [
    {
     "name": "stdout",
     "output_type": "stream",
     "text": [
      "(16384, 24)\n",
      "(16384, 74)\n",
      "(16384, 38)\n",
      "(16384, 117)\n"
     ]
    }
   ],
   "source": [
    "# Train PCA on 25% of dataset\n",
    "X_no_train, X_no_test = train_test_split(no_image_pixels_array, test_size = 0.75, random_state = 69)\n",
    "X_no_train = X_no_train.T\n",
    "X_no_test = X_no_test.T\n",
    "print(X_no_train.shape)\n",
    "print(X_no_test.shape)\n",
    "\n",
    "X_yes_train, X_yes_test = train_test_split(yes_image_pixels_array, test_size = 0.75, random_state = 69)\n",
    "X_yes_train = X_yes_train.T\n",
    "X_yes_test = X_yes_test.T\n",
    "print(X_yes_train.shape)\n",
    "print(X_yes_test.shape)"
   ]
  },
  {
   "cell_type": "code",
   "execution_count": 8,
   "id": "9e596795",
   "metadata": {},
   "outputs": [],
   "source": [
    "# Standardization function\n",
    "def standardize(X):\n",
    "    # Calculate the mean of each column mu\n",
    "    mu = np.mean(X,axis=0)\n",
    "    \n",
    "    # Subtract the mean from X\n",
    "    X = X - mu\n",
    "    \n",
    "    # Calculate standard deviation of each column\n",
    "    std = np.std(X,axis=0)\n",
    "    \n",
    "    # Handle zero standard deviation case\n",
    "    std_filled = std.copy()\n",
    "    std_filled[std==0] = 1.0\n",
    "    \n",
    "    # Calculate standardized X\n",
    "    X_bar = (X-mu)/std_filled\n",
    "    \n",
    "    return X_bar, mu, std\n"
   ]
  },
  {
   "cell_type": "code",
   "execution_count": 110,
   "id": "e45b4a0f",
   "metadata": {},
   "outputs": [],
   "source": [
    "# Function to calculate eigenvectors and eigenvalues\n",
    "def eig(S):\n",
    "    eig_vec, eig_val = np.linalg.eigh(S)\n",
    "    # sorting eigenvalues in decreasing order\n",
    "    # np.argsort returns indices of positions \n",
    "    sorted_eig = np.argsort(-eig_val)\n",
    "    eig_val = eig_val[sorted_eig]\n",
    "    eig_vec = eig_vec[sorted_eig]\n",
    "    \n",
    "    return (eig_vec, eig_val)\n",
    "    "
   ]
  },
  {
   "cell_type": "code",
   "execution_count": 10,
   "id": "d3e3b0f9",
   "metadata": {},
   "outputs": [],
   "source": [
    "# Function to calculate projection matrix for reconstruction\n",
    "def projection(A):\n",
    "    M = A @ A.T\n",
    "    return M"
   ]
  },
  {
   "cell_type": "code",
   "execution_count": 178,
   "id": "ec350b3d",
   "metadata": {},
   "outputs": [],
   "source": [
    "# Implement PCA\n",
    "def PCA(X,mu, num_pcs):\n",
    "    # Calculate the covariance matrix\n",
    "    dim = np.shape(X)\n",
    "    avg = np.tile(np.array([X.mean(axis=1)]).T, (1,dim[1])) \n",
    "    Z = X - avg\n",
    "    N = dim[1]\n",
    "    cov_matrix = Z.T.dot(Z) / N\n",
    "    \n",
    "    #cov_matrix = np.cov(X)\n",
    "    # Find eigenvalue and eigenvectors of covariance matrix\n",
    "    eig_vecs, eig_vals = eig(cov_matrix)\n",
    "    \n",
    "    # Select specific eigenvectors\n",
    "    U = Z.dot(eig_vecs)\n",
    "    U = U / U.max(axis=0)\n",
    "    return U\n",
    "    # Find principal components\n",
    "    principal_components = U.T.dot()\n",
    "    X = X(:,num_pcs)\n",
    "    principal_components = U.T * (X-mu)\n",
    "\n",
    "    # Reconstruct \n",
    "    U = U[:,0:num_pcs]\n",
    "    principal_components = principal_components[0:num_pcs]\n",
    "    zero_mean_reconstruction = U * principal_components\n",
    "    reconstruction = zero_mean_reconstruction + mu\n",
    "    return reconstruction"
   ]
  },
  {
   "cell_type": "code",
   "execution_count": 181,
   "id": "f4b014ce",
   "metadata": {},
   "outputs": [],
   "source": [
    "no_pixel_mu = no_image_pixels_array.mean().mean()\n",
    "yes_pixel_mu = no_image_pixels_array.mean().mean()\n",
    "no_reconstruction = PCA(X_no_train, no_pixel_mu, 5)\n",
    "yes_reconstruction = PCA(X_yes_train, yes_pixel_mu, 5)"
   ]
  },
  {
   "cell_type": "code",
   "execution_count": null,
   "id": "b1a50c7b",
   "metadata": {},
   "outputs": [],
   "source": [
    "projection"
   ]
  },
  {
   "cell_type": "code",
   "execution_count": null,
   "id": "7b325fea",
   "metadata": {},
   "outputs": [],
   "source": [
    "# CNN Model\n",
    "\n",
    "model = tf.keras.models.Sequential([\n",
    "    tf.keras.layers.Conv2D(filters=64,\n",
    "                           kernel_size=3,\n",
    "                           activation='relu',\n",
    "                           input_shape=(128,128,1)),\n",
    "    tf.keras.layers.Conv2D(32,(4,4),activation='relu'),\n",
    "    tf.keras.layers.MaxPool2D(pool_size=(2,2),\n",
    "                              padding='valid'),\n",
    "    tf.keras.layers.Conv2D(32,(4,4),activation='relu'),\n",
    "    tf.keras.layers.Conv2D(16,3,activation='relu'),\n",
    "    tf.keras.layers.MaxPool2D((2,2)),\n",
    "    tf.keras.layers.Flatten(),\n",
    "    tf.keras.layers.Dense(1, activation='sigmoid')\n",
    "])\n",
    "\n",
    "model.summary()"
   ]
  },
  {
   "cell_type": "code",
   "execution_count": null,
   "id": "06b8577a",
   "metadata": {},
   "outputs": [],
   "source": [
    "model.compile(optimizer='adam', loss='binary_crossentropy', metrics=['accuracy'])"
   ]
  },
  {
   "cell_type": "code",
   "execution_count": null,
   "id": "ba585833",
   "metadata": {},
   "outputs": [],
   "source": [
    "model.fit(x=X_train, y=y_train, epochs=10, validation_data=(X_test, y_test))"
   ]
  },
  {
   "cell_type": "code",
   "execution_count": null,
   "id": "98994a68",
   "metadata": {},
   "outputs": [],
   "source": []
  },
  {
   "cell_type": "code",
   "execution_count": null,
   "id": "23ffef52",
   "metadata": {},
   "outputs": [],
   "source": []
  }
 ],
 "metadata": {
  "kernelspec": {
   "display_name": "Python 3.9.13 64-bit (microsoft store)",
   "language": "python",
   "name": "python3"
  },
  "language_info": {
   "codemirror_mode": {
    "name": "ipython",
    "version": 3
   },
   "file_extension": ".py",
   "mimetype": "text/x-python",
   "name": "python",
   "nbconvert_exporter": "python",
   "pygments_lexer": "ipython3",
   "version": "3.9.13"
  },
  "vscode": {
   "interpreter": {
    "hash": "98a625e6d7d55545ce81aedecb43d138ab580e94ba5efa0d01dd2fae79ce129d"
   }
  }
 },
 "nbformat": 4,
 "nbformat_minor": 5
}
