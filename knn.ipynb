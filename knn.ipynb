{
 "cells": [
  {
   "cell_type": "code",
   "execution_count": 1,
   "metadata": {},
   "outputs": [],
   "source": [
    "import pandas as pd\n",
    "import numpy as np\n",
    "import cv2\n",
    "import os\n",
    "from sklearn.neighbors import KNeighborsClassifier\n",
    "from sklearn.model_selection import train_test_split\n",
    "import matplotlib.pyplot as plt\n",
    "from sklearn.model_selection import cross_val_score"
   ]
  },
  {
   "cell_type": "code",
   "execution_count": 2,
   "metadata": {},
   "outputs": [],
   "source": [
    "directory = os.getcwd()\n",
    "\n",
    "def process_images(directory, subfolder):\n",
    "\n",
    "    # Assign features as the raw RGB pixel values and the labels as 'yes' or 'no'\n",
    "    labels = []\n",
    "    pixels = []\n",
    "\n",
    "    if subfolder == '/no':\n",
    "        label = 0\n",
    "    else:\n",
    "        label = 1\n",
    "\n",
    "    # Go into the image folder\n",
    "    os.chdir(directory + subfolder)\n",
    "\n",
    "    for file in os.listdir(directory + subfolder):\n",
    "\n",
    "        # Read image file, resize, and output RGB values \n",
    "        img = cv2.imread(file)\n",
    "        img_array = cv2.resize(img, (128,128)).flatten()\n",
    "\n",
    "        labels.append(label)\n",
    "        pixels.append(img_array)\n",
    "\n",
    "    # Return from the image folder \n",
    "    os.chdir('..')\n",
    "    return pixels, labels \n",
    "\n",
    "pixels_no, labels_no = process_images(directory, '/no')\n",
    "pixels_yes, labels_yes = process_images(directory, '/yes')\n"
   ]
  },
  {
   "cell_type": "code",
   "execution_count": 3,
   "metadata": {},
   "outputs": [],
   "source": [
    "# Split up no and yes data\n",
    "(X_no_train, X_no_test, y_no_train, y_no_test) = train_test_split(\n",
    "    pixels_no, labels_no, test_size=0.2)\n",
    "\n",
    "(X_yes_train, X_yes_test, y_yes_train, y_yes_test) = train_test_split(\n",
    "    pixels_yes, labels_yes, test_size=0.2)\n",
    "\n",
    "# Make sure train and test variables have equals amounts of yes's and no's\n",
    "X_train = np.concatenate((X_no_train, X_yes_train), axis=0)\n",
    "X_test = np.concatenate((X_no_test, X_yes_test), axis=0)\n",
    "\n",
    "y_train = np.concatenate((y_no_train, y_yes_train), axis=0)\n",
    "y_test = np.concatenate((y_no_test, y_yes_test), axis=0)"
   ]
  },
  {
   "cell_type": "code",
   "execution_count": 4,
   "metadata": {},
   "outputs": [
    {
     "name": "stdout",
     "output_type": "stream",
     "text": [
      "Training Accuracy: 100.00%\n",
      "Test Accuracy: 76.47%\n"
     ]
    }
   ],
   "source": [
    "# Build model\n",
    "model = KNeighborsClassifier(n_neighbors=1)\n",
    "model.fit(X_train, y_train)\n",
    "train_acc = model.score(X_train, y_train)\n",
    "print(\"Training Accuracy: {:.2f}%\".format(train_acc * 100))\n",
    "\n",
    "# Evaluate model on singular instance of testing data\n",
    "test_acc = model.score(X_test, y_test)\n",
    "print(\"Test Accuracy: {:.2f}%\".format(test_acc * 100))"
   ]
  },
  {
   "cell_type": "code",
   "execution_count": 5,
   "metadata": {},
   "outputs": [
    {
     "name": "stdout",
     "output_type": "stream",
     "text": [
      "Cross-Validation Accuracy: 76.68%\n"
     ]
    }
   ],
   "source": [
    "# Perform cross-validation\n",
    "model = KNeighborsClassifier(n_neighbors=1)\n",
    "X = np.concatenate((X_no_train, X_yes_train, X_no_test, X_yes_test), axis=0)\n",
    "y = np.concatenate((y_no_train, y_yes_train, y_no_test, y_yes_test), axis=0)\n",
    "\n",
    "scores = cross_val_score(model, X, y, cv=10, scoring='accuracy')\n",
    "print(\"Cross-Validation Accuracy: {:.2f}%\".format(np.mean(scores) * 100))"
   ]
  },
  {
   "cell_type": "code",
   "execution_count": null,
   "metadata": {},
   "outputs": [],
   "source": []
  }
 ],
 "metadata": {
  "kernelspec": {
   "display_name": "Python 3.9.13 64-bit (microsoft store)",
   "language": "python",
   "name": "python3"
  },
  "language_info": {
   "codemirror_mode": {
    "name": "ipython",
    "version": 3
   },
   "file_extension": ".py",
   "mimetype": "text/x-python",
   "name": "python",
   "nbconvert_exporter": "python",
   "pygments_lexer": "ipython3",
   "version": "3.9.13"
  },
  "orig_nbformat": 4,
  "vscode": {
   "interpreter": {
    "hash": "98a625e6d7d55545ce81aedecb43d138ab580e94ba5efa0d01dd2fae79ce129d"
   }
  }
 },
 "nbformat": 4,
 "nbformat_minor": 2
}
